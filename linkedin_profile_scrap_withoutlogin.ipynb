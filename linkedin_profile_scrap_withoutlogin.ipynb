{
  "nbformat": 4,
  "nbformat_minor": 0,
  "metadata": {
    "colab": {
      "provenance": [],
      "authorship_tag": "ABX9TyOPPI8uOPm0nIRIAAjAn0kP",
      "include_colab_link": true
    },
    "kernelspec": {
      "name": "python3",
      "display_name": "Python 3"
    },
    "language_info": {
      "name": "python"
    }
  },
  "cells": [
    {
      "cell_type": "markdown",
      "metadata": {
        "id": "view-in-github",
        "colab_type": "text"
      },
      "source": [
        "<a href=\"https://colab.research.google.com/github/littleadam/ats-compliance-check/blob/main/linkedin_profile_scrap_withoutlogin.ipynb\" target=\"_parent\"><img src=\"https://colab.research.google.com/assets/colab-badge.svg\" alt=\"Open In Colab\"/></a>"
      ]
    },
    {
      "cell_type": "code",
      "execution_count": 1,
      "metadata": {
        "colab": {
          "base_uri": "https://localhost:8080/"
        },
        "id": "ctzp8kaYr8vx",
        "outputId": "fa264906-ce98-491a-f214-6326d9fd0891"
      },
      "outputs": [
        {
          "output_type": "stream",
          "name": "stdout",
          "text": [
            "Requirement already satisfied: requests in /usr/local/lib/python3.10/dist-packages (2.32.3)\n",
            "Requirement already satisfied: charset-normalizer<4,>=2 in /usr/local/lib/python3.10/dist-packages (from requests) (3.3.2)\n",
            "Requirement already satisfied: idna<4,>=2.5 in /usr/local/lib/python3.10/dist-packages (from requests) (3.10)\n",
            "Requirement already satisfied: urllib3<3,>=1.21.1 in /usr/local/lib/python3.10/dist-packages (from requests) (2.2.3)\n",
            "Requirement already satisfied: certifi>=2017.4.17 in /usr/local/lib/python3.10/dist-packages (from requests) (2024.8.30)\n",
            "Collecting bs4\n",
            "  Downloading bs4-0.0.2-py2.py3-none-any.whl.metadata (411 bytes)\n",
            "Requirement already satisfied: beautifulsoup4 in /usr/local/lib/python3.10/dist-packages (from bs4) (4.12.3)\n",
            "Requirement already satisfied: soupsieve>1.2 in /usr/local/lib/python3.10/dist-packages (from beautifulsoup4->bs4) (2.6)\n",
            "Downloading bs4-0.0.2-py2.py3-none-any.whl (1.2 kB)\n",
            "Installing collected packages: bs4\n",
            "Successfully installed bs4-0.0.2\n"
          ]
        }
      ],
      "source": [
        "!pip install requests\n",
        "!pip install bs4"
      ]
    },
    {
      "cell_type": "code",
      "source": [
        "import requests\n",
        "import re\n",
        "from bs4 import BeautifulSoup"
      ],
      "metadata": {
        "id": "jdcykZ2FsNeP"
      },
      "execution_count": 2,
      "outputs": []
    },
    {
      "cell_type": "code",
      "source": [
        "def scrape_linkedin_profiles(url):\n",
        "    headers = {\n",
        "        \"User-Agent\": \"Guest\",  # Access as Guest\n",
        "    }\n",
        "\n",
        "    response = requests.get(url, headers=headers)\n",
        "\n",
        "    if response.status_code == 200:    # if request granted\n",
        "        soup = BeautifulSoup(response.content, 'html.parser')\n",
        "\n",
        "        # Extract profile information\n",
        "        title_tag = soup.find('title')\n",
        "        designation_tag = soup.find('h2')\n",
        "        followers_tag = soup.find('meta', {\"property\": \"og:description\"})\n",
        "        description_tag = soup.find('p', class_='break-words')\n",
        "\n",
        "        # Check if the tags are found before calling get_text()\n",
        "        name = title_tag.get_text(strip=True).split(\"|\")[0].strip() if title_tag else \"Profile Name not found\"\n",
        "        designation = designation_tag.get_text(strip=True) if designation_tag else \"Designation not found\"\n",
        "\n",
        "        # Use regular expression to extract followers and description count\n",
        "        followers_match = re.search(r'\\b(\\d[\\d,.]*)\\s+followers\\b', followers_tag[\"content\"]) if followers_tag else None\n",
        "        followers_count = followers_match.group(1) if followers_match else \"Followers count not found\"\n",
        "\n",
        "        description = description_tag.get_text(strip=True) if description_tag else \"Description not found\"\n",
        "\n",
        "        print(f\"Profile Name: {name}\")\n",
        "        print(f\"Designation: {designation}\")\n",
        "        print(f\"Followers Count: {followers_count}\")\n",
        "        print(f\"Description: {description}\")\n",
        "    else:\n",
        "        print(f\"Error: Unable to retrieve the LinkedIn company profile. Status code: {response.status_code}\")\n"
      ],
      "metadata": {
        "id": "a5bqGsGisTPY"
      },
      "execution_count": 5,
      "outputs": []
    },
    {
      "cell_type": "code",
      "source": [
        "# Pipeline\n",
        "profile_url = \"https://in.linkedin.com/company/geeksforgeeks\"\n",
        "scrape_linkedin_profiles(profile_url)"
      ],
      "metadata": {
        "colab": {
          "base_uri": "https://localhost:8080/"
        },
        "id": "5Wu6kznhs65C",
        "outputId": "545ca1f5-0fae-45e9-82d7-83af64b913df"
      },
      "execution_count": 13,
      "outputs": [
        {
          "output_type": "stream",
          "name": "stdout",
          "text": [
            "Profile Name: GeeksforGeeks\n",
            "Designation: Education\n",
            "Followers Count: 2,144,835\n",
            "Description: With the idea of imparting programming knowledge, Mr. Sandeep Jain, an IIT Roorkee alumnus started a dream- GeeksforGeeks. Whether programming excites you or you feel stifled, wondering how to prepare for interview questions or how to ace data structures and algorithms, GeeksforGeeks is the one-stop solution for you.\n",
            "With every tick of time, we are adding arrows in our quiver. From articles on various computer science subjects to programming problems for practice, from basic to premium courses, from technologies to entrance examinations, we have been building ample content with superior quality.\n",
            "\n",
            "In a short span, we have built a community of 20 Million+ Geeks around the world, 20,000+ Contributors and 500+ Campus Ambassadors in various colleges across the nation. Our success stories include a lot of students who benefited in their placements and landed jobs at tech giants.\n",
            "\n",
            "So start exploring the plethora of resources that GeeksforGeeks has to offer and start your journey of becoming more skilled and employable!\n"
          ]
        }
      ]
    },
    {
      "cell_type": "code",
      "source": [],
      "metadata": {
        "id": "hr1HfXAtuu0s"
      },
      "execution_count": null,
      "outputs": []
    }
  ]
}